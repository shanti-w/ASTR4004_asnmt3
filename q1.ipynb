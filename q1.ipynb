{
 "cells": [
  {
   "cell_type": "markdown",
   "id": "83c08e6c",
   "metadata": {},
   "source": [
    "# https://github.com/shanti-w/ASTR4004_asnmt3\n"
   ]
  }
 ],
 "metadata": {
  "language_info": {
   "name": "python"
  }
 },
 "nbformat": 4,
 "nbformat_minor": 5
}
