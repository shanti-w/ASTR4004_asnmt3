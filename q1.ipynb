https://github.com/shanti-w/ASTR4004_asnmt3
